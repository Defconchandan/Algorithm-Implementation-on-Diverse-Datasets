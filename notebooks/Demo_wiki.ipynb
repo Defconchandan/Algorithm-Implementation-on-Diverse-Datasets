{
 "cells": [
  {
   "cell_type": "markdown",
   "id": "f713310c",
   "metadata": {},
   "source": [
    "## Diversity Sampling of Wikipedia Articles"
   ]
  },
  {
   "cell_type": "code",
   "execution_count": 1,
   "id": "103108dc",
   "metadata": {},
   "outputs": [
    {
     "name": "stdout",
     "output_type": "stream",
     "text": [
      "/workspace/diversity_sampling/src\n"
     ]
    }
   ],
   "source": [
    "cd ../src"
   ]
  },
  {
   "cell_type": "code",
   "execution_count": 2,
   "id": "3e4d1abc",
   "metadata": {
    "tags": []
   },
   "outputs": [],
   "source": [
    "%load_ext autoreload\n",
    "%autoreload 2"
   ]
  },
  {
   "cell_type": "markdown",
   "id": "73421c2e",
   "metadata": {},
   "source": [
    "## Initialization"
   ]
  },
  {
   "cell_type": "markdown",
   "id": "8ba02a39",
   "metadata": {},
   "source": [
    "### Imports"
   ]
  },
  {
   "cell_type": "code",
   "execution_count": 3,
   "id": "563f3182",
   "metadata": {
    "tags": []
   },
   "outputs": [],
   "source": [
    "import os\n",
    "import numpy as np\n",
    "import pandas as pd\n",
    "import seaborn as sns\n",
    "import matplotlib.pyplot as plt\n",
    "\n",
    "from tqdm import tqdm\n",
    "\n",
    "pd.set_option('display.width', 1000)\n",
    "pd.set_option('max_colwidth', 1000)\n",
    "plt.rcParams['axes.prop_cycle'] = plt.cycler(color=plt.cm.tab20.colors)"
   ]
  },
  {
   "cell_type": "code",
   "execution_count": 4,
   "id": "db55b9a2",
   "metadata": {
    "tags": []
   },
   "outputs": [
    {
     "data": {
      "text/plain": [
       "True"
      ]
     },
     "execution_count": 4,
     "metadata": {},
     "output_type": "execute_result"
    }
   ],
   "source": [
    "import torch\n",
    "torch.cuda.is_available()  # Code is faster on GPU !"
   ]
  },
  {
   "cell_type": "code",
   "execution_count": 26,
   "id": "f6337cd3",
   "metadata": {
    "tags": []
   },
   "outputs": [],
   "source": [
    "from coreset import CoresetSampler\n",
    "from plot import plot_dbscan_results, plot_coreset_results"
   ]
  },
  {
   "cell_type": "markdown",
   "id": "d39ffd9e",
   "metadata": {},
   "source": [
    "### Retrieve data"
   ]
  },
  {
   "cell_type": "code",
   "execution_count": 7,
   "id": "48a2e46c",
   "metadata": {},
   "outputs": [
    {
     "name": "stdout",
     "output_type": "stream",
     "text": [
      "Retrieved 486826 articles\n"
     ]
    }
   ],
   "source": [
    "df = pd.read_parquet('../output/df.parquet')\n",
    "print(f\"Retrieved {len(df)} articles\")"
   ]
  },
  {
   "cell_type": "code",
   "execution_count": 13,
   "id": "b38c2adb",
   "metadata": {},
   "outputs": [
    {
     "name": "stdout",
     "output_type": "stream",
     "text": [
      "Embedding shape: (486826, 384)\n"
     ]
    }
   ],
   "source": [
    "embeds = np.load('../output/embeds.npy')\n",
    "print(f\"Embedding shape: {embed.shape}\")"
   ]
  },
  {
   "cell_type": "markdown",
   "id": "fc881250",
   "metadata": {},
   "source": [
    "### Coreset Sampler"
   ]
  },
  {
   "cell_type": "code",
   "execution_count": 14,
   "id": "0b600ba5",
   "metadata": {
    "tags": []
   },
   "outputs": [],
   "source": [
    "EPS = 0.85  # Higher eps = bigger clusters\n",
    "MIN_SAMPLES = 100\n",
    "N_SAMPLES = 1000"
   ]
  },
  {
   "cell_type": "code",
   "execution_count": 15,
   "id": "8cc1f63a",
   "metadata": {},
   "outputs": [],
   "source": [
    "coreset = CoresetSampler(\n",
    "    n_samples=N_SAMPLES,\n",
    "    initialization=\"dbscan\",\n",
    "    dbscan_params={\"eps\": EPS, \"min_samples\": MIN_SAMPLES},\n",
    "    tqdm_disable=False,\n",
    "    verbose=1,\n",
    ")"
   ]
  },
  {
   "cell_type": "markdown",
   "id": "844afe0c",
   "metadata": {},
   "source": [
    "### DBScan Initialization"
   ]
  },
  {
   "cell_type": "code",
   "execution_count": 16,
   "id": "ca04e304",
   "metadata": {
    "tags": []
   },
   "outputs": [
    {
     "name": "stdout",
     "output_type": "stream",
     "text": [
      "Using cuml gpu-accelerated algorithms\n",
      "Initializing with DBScan\n",
      "[W] [15:23:09.023156] Batch size limited by the chosen integer type (4 bytes). 10895 -> 4411. Using the larger integer type might result in better performance\n",
      "Initialize with 36 points\n",
      "CPU times: user 1min 10s, sys: 890 ms, total: 1min 11s\n",
      "Wall time: 1min 11s\n"
     ]
    }
   ],
   "source": [
    "%%time\n",
    "init_ids = coreset.initialize(embeds)"
   ]
  },
  {
   "cell_type": "code",
   "execution_count": 17,
   "id": "0875e9a1",
   "metadata": {
    "tags": []
   },
   "outputs": [],
   "source": [
    "y = coreset.dbscan_y\n",
    "counts = np.bincount(y + 1)"
   ]
  },
  {
   "cell_type": "code",
   "execution_count": 18,
   "id": "be1b3b9a",
   "metadata": {
    "tags": []
   },
   "outputs": [
    {
     "name": "stdout",
     "output_type": "stream",
     "text": [
      "Number of clusters : 36\n",
      "Number of non-clustered prompts : 460123\n"
     ]
    }
   ],
   "source": [
    "print('Number of clusters :', len(counts) - 1)\n",
    "print('Number of non-clustered prompts :', counts[0])"
   ]
  },
  {
   "cell_type": "code",
   "execution_count": 19,
   "id": "e87615e0",
   "metadata": {
    "tags": []
   },
   "outputs": [
    {
     "name": "stdout",
     "output_type": "stream",
     "text": [
      "Biggest clusters :\t [0, 4, 10, 28, 17, 18, 5, 6, 11, 15]\n",
      "Associated sizes :\t [11717, 2601, 1610, 941, 837, 734, 681, 557, 503, 458]\n"
     ]
    }
   ],
   "source": [
    "biggest = np.argsort(counts[1:])[::-1] # [:10]\n",
    "sizes = np.sort(counts[1:])[::-1]\n",
    "print('Biggest clusters :\\t', list(biggest[:10]))\n",
    "print('Associated sizes :\\t', list(sizes[:10]))"
   ]
  },
  {
   "cell_type": "code",
   "execution_count": 20,
   "id": "0dc00bc5",
   "metadata": {
    "tags": []
   },
   "outputs": [
    {
     "data": {
      "image/png": "[encoded data removed]",
      "text/plain": [
       "<Figure size 1500x500 with 1 Axes>"
      ]
     },
     "metadata": {},
     "output_type": "display_data"
    }
   ],
   "source": [
    "plt.figure(figsize=(15, 5))\n",
    "sns.countplot(x=np.round(np.log10(np.clip(counts[1:], 0, 10000)), 1))\n",
    "ticks, labels = plt.xticks()\n",
    "labels = [float(l.get_text()) for l in labels]\n",
    "plt.xticks(ticks, (10 ** np.array(labels)).astype(int))\n",
    "plt.title('Cluster size binned repartition')\n",
    "plt.show()"
   ]
  },
  {
   "cell_type": "code",
   "execution_count": null,
   "id": "bad433c4",
   "metadata": {},
   "outputs": [],
   "source": [
    "plot_dbscan_results(embeds, y, counts, min_size=MIN_SAMPLES)"
   ]
  },
  {
   "cell_type": "code",
   "execution_count": null,
   "id": "e16f0567",
   "metadata": {
    "tags": []
   },
   "outputs": [
    {
     "name": "stdout",
     "output_type": "stream",
     "text": [
      "Cluster id : 0\n",
      "Cluster size : 11717\n"
     ]
    },
    {
     "data": {
      "text/html": [
       "<div>\n",
       "<style scoped>\n",
       "    .dataframe tbody tr th:only-of-type {\n",
       "        vertical-align: middle;\n",
       "    }\n",
       "\n",
       "    .dataframe tbody tr th {\n",
       "        vertical-align: top;\n",
       "    }\n",
       "\n",
       "    .dataframe thead th {\n",
       "        text-align: right;\n",
       "    }\n",
       "</style>\n",
       "<table border=\"1\" class=\"dataframe\">\n",
       "  <thead>\n",
       "    <tr style=\"text-align: right;\">\n",
       "      <th></th>\n",
       "      <th>title</th>\n",
       "      <th>text</th>\n",
       "    </tr>\n",
       "  </thead>\n",
       "  <tbody>\n",
       "    <tr>\n",
       "      <th>248175</th>\n",
       "      <td>Bowling at the 1995 Pan American Games</td>\n",
       "      <td>This page shows the results of the Bowling Competition for men and women at the 1995 Pan American Games, held from March 11 to March 26, 1995, in Mar del Plata, Argentina. The event was included for the third time at the Pan American Games.</td>\n",
       "    </tr>\n",
       "    <tr>\n",
       "      <th>188337</th>\n",
       "      <td>María Luisa Souza</td>\n",
       "      <td>María Luisa Souza (born 21 November 1941) is a Mexican former freestyle swimmer. She competed at the 1960 Summer Olympics and the 1964 Summer Olympics.</td>\n",
       "    </tr>\n",
       "    <tr>\n",
       "      <th>6069</th>\n",
       "      <td>Cao Haiqing</td>\n",
       "      <td>Cao Haiqing (Chinese: 曹海清; born 28 September 1993 in Wuhan) is a Chinese footballer who plays for Cangzhou Mighty Lions in the Chinese Super League.</td>\n",
       "    </tr>\n",
       "    <tr>\n",
       "      <th>331204</th>\n",
       "      <td>Gmina Tarczyn</td>\n",
       "      <td>Gmina Tarczyn is an urban-rural gmina (administrative district) in Piaseczno County, Masovian Voivodeship, in east-central Poland. Its seat is the town of Tarczyn, which lies approximately south-west of Piaseczno and south-west of Warsaw.</td>\n",
       "    </tr>\n",
       "    <tr>\n",
       "      <th>240433</th>\n",
       "      <td>Strzepcz</td>\n",
       "      <td>Strzepcz (, , , ) is a village in the administrative district of Gmina Linia, within Wejherowo County, Pomeranian Voivodeship in northern Poland. It is approximately east of Linia, southwest of Wejherowo, and west of the regional capital Gdańsk. Its population is 766. For the region's history, see \"History of Pomerania\". It is home to Kashubian Secondary School..</td>\n",
       "    </tr>\n",
       "  </tbody>\n",
       "</table>\n",
       "</div>"
      ],
      "text/plain": [
       "                                         title                                                                                                                                                                                                                                                                                                                                                                           text\n",
       "248175  Bowling at the 1995 Pan American Games                                                                                                                               This page shows the results of the Bowling Competition for men and women at the 1995 Pan American Games, held from March 11 to March 26, 1995, in Mar del Plata, Argentina. The event was included for the third time at the Pan American Games.\n",
       "188337                       María Luisa Souza                                                                                                                                                                                                                        María Luisa Souza (born 21 November 1941) is a Mexican former freestyle swimmer. She competed at the 1960 Summer Olympics and the 1964 Summer Olympics.\n",
       "6069                               Cao Haiqing                                                                                                                                                                                                                           Cao Haiqing (Chinese: 曹海清; born 28 September 1993 in Wuhan) is a Chinese footballer who plays for Cangzhou Mighty Lions in the Chinese Super League.\n",
       "331204                           Gmina Tarczyn                                                                                                                                 Gmina Tarczyn is an urban-rural gmina (administrative district) in Piaseczno County, Masovian Voivodeship, in east-central Poland. Its seat is the town of Tarczyn, which lies approximately south-west of Piaseczno and south-west of Warsaw.\n",
       "240433                                Strzepcz  Strzepcz (, , , ) is a village in the administrative district of Gmina Linia, within Wejherowo County, Pomeranian Voivodeship in northern Poland. It is approximately east of Linia, southwest of Wejherowo, and west of the regional capital Gdańsk. Its population is 766. For the region's history, see \"History of Pomerania\". It is home to Kashubian Secondary School.."
      ]
     },
     "metadata": {},
     "output_type": "display_data"
    },
    {
     "name": "stdout",
     "output_type": "stream",
     "text": [
      "----------------------------------------------------------------------------------------------------\n",
      "Cluster id : 4\n",
      "Cluster size : 2601\n"
     ]
    },
    {
     "data": {
      "text/html": [
       "<div>\n",
       "<style scoped>\n",
       "    .dataframe tbody tr th:only-of-type {\n",
       "        vertical-align: middle;\n",
       "    }\n",
       "\n",
       "    .dataframe tbody tr th {\n",
       "        vertical-align: top;\n",
       "    }\n",
       "\n",
       "    .dataframe thead th {\n",
       "        text-align: right;\n",
       "    }\n",
       "</style>\n",
       "<table border=\"1\" class=\"dataframe\">\n",
       "  <thead>\n",
       "    <tr style=\"text-align: right;\">\n",
       "      <th></th>\n",
       "      <th>title</th>\n",
       "      <th>text</th>\n",
       "    </tr>\n",
       "  </thead>\n",
       "  <tbody>\n",
       "    <tr>\n",
       "      <th>310706</th>\n",
       "      <td>Ângelo Taveira</td>\n",
       "      <td>Ângelo Rafael Oliveira Sousa Taveira (born 13 May 2000) is a Portuguese professional footballer who plays for Farense as a forward.</td>\n",
       "    </tr>\n",
       "    <tr>\n",
       "      <th>261991</th>\n",
       "      <td>Javi Martínez (footballer, born 1997)</td>\n",
       "      <td>Javier Martínez Tabernero (born 10 May 1997) is a Spanish retired footballer who last played for Real Unión as a forward.</td>\n",
       "    </tr>\n",
       "    <tr>\n",
       "      <th>204085</th>\n",
       "      <td>Miguel Antonio Otero (born 1859)</td>\n",
       "      <td>Miguel Antonio Otero II (October 17, 1859 – August 7, 1944) was an American politician, businessman, and author who served as the 16th Governor of New Mexico Territory from 1897 to 1906. He was the son of Miguel Antonio Otero, a prominent businessman and New Mexico politician.</td>\n",
       "    </tr>\n",
       "    <tr>\n",
       "      <th>446409</th>\n",
       "      <td>Misael Alfaro</td>\n",
       "      <td>Álvaro Misael Alfaro Sánchez (born January 6, 1971 in Nueva San Salvador, El Salvador) is a former Salvadoran professional goalkeeper and currently manager.</td>\n",
       "    </tr>\n",
       "    <tr>\n",
       "      <th>66096</th>\n",
       "      <td>Roberto Delgado (swimmer)</td>\n",
       "      <td>Roberto Delgado Martillo (born April 3, 1975) is an American-Ecuadorian former swimmer who specialized in freestyle and butterfly events. A two-time Olympian (1996 and 2000), he holds numerous Ecuadorian records in both 100 and 200 m butterfly, and retains his dual resident status to compete internationally for his parents' homeland. While studying in the United States, Delgado has been listed as an all-time Top 10 performer in the 200 m butterfly for the Arizona State Sun Devils.</td>\n",
       "    </tr>\n",
       "  </tbody>\n",
       "</table>\n",
       "</div>"
      ],
      "text/plain": [
       "                                        title                                                                                                                                                                                                                                                                                                                                                                                                                                                                                                   text\n",
       "310706                         Ângelo Taveira                                                                                                                                                                                                                                                                                                                                                                    Ângelo Rafael Oliveira Sousa Taveira (born 13 May 2000) is a Portuguese professional footballer who plays for Farense as a forward.\n",
       "261991  Javi Martínez (footballer, born 1997)                                                                                                                                                                                                                                                                                                                                                                              Javier Martínez Tabernero (born 10 May 1997) is a Spanish retired footballer who last played for Real Unión as a forward.\n",
       "204085       Miguel Antonio Otero (born 1859)                                                                                                                                                                                                                  Miguel Antonio Otero II (October 17, 1859 – August 7, 1944) was an American politician, businessman, and author who served as the 16th Governor of New Mexico Territory from 1897 to 1906. He was the son of Miguel Antonio Otero, a prominent businessman and New Mexico politician.\n",
       "446409                          Misael Alfaro                                                                                                                                                                                                                                                                                                                                           Álvaro Misael Alfaro Sánchez (born January 6, 1971 in Nueva San Salvador, El Salvador) is a former Salvadoran professional goalkeeper and currently manager.\n",
       "66096               Roberto Delgado (swimmer)  Roberto Delgado Martillo (born April 3, 1975) is an American-Ecuadorian former swimmer who specialized in freestyle and butterfly events. A two-time Olympian (1996 and 2000), he holds numerous Ecuadorian records in both 100 and 200 m butterfly, and retains his dual resident status to compete internationally for his parents' homeland. While studying in the United States, Delgado has been listed as an all-time Top 10 performer in the 200 m butterfly for the Arizona State Sun Devils."
      ]
     },
     "metadata": {},
     "output_type": "display_data"
    },
    {
     "name": "stdout",
     "output_type": "stream",
     "text": [
      "----------------------------------------------------------------------------------------------------\n",
      "Cluster id : 10\n",
      "Cluster size : 1610\n"
     ]
    },
    {
     "data": {
      "text/html": [
       "<div>\n",
       "<style scoped>\n",
       "    .dataframe tbody tr th:only-of-type {\n",
       "        vertical-align: middle;\n",
       "    }\n",
       "\n",
       "    .dataframe tbody tr th {\n",
       "        vertical-align: top;\n",
       "    }\n",
       "\n",
       "    .dataframe thead th {\n",
       "        text-align: right;\n",
       "    }\n",
       "</style>\n",
       "<table border=\"1\" class=\"dataframe\">\n",
       "  <thead>\n",
       "    <tr style=\"text-align: right;\">\n",
       "      <th></th>\n",
       "      <th>title</th>\n",
       "      <th>text</th>\n",
       "    </tr>\n",
       "  </thead>\n",
       "  <tbody>\n",
       "    <tr>\n",
       "      <th>302709</th>\n",
       "      <td>Traminda aventiaria</td>\n",
       "      <td>Traminda aventiaria, the cross-line wave moth, is a moth of the family Geometridae. The species was first described by Achille Guenée in 1858. It is found in the Indian subregion, Sri Lanka, to Hong Kong, Taiwan, New Guinea and Australia.</td>\n",
       "    </tr>\n",
       "    <tr>\n",
       "      <th>152</th>\n",
       "      <td>Chrysodeixis acuta</td>\n",
       "      <td>Chrysodeixis acuta, the tunbridge wells gem, is a moth of the family Noctuidae. It is found in Africa as well as the on Canary Islands eastwards to Australasia Indonesia and Oceania.</td>\n",
       "    </tr>\n",
       "    <tr>\n",
       "      <th>265266</th>\n",
       "      <td>Turuptiana obliqua</td>\n",
       "      <td>Turuptiana obliqua is a moth in the family Erebidae. It was described by Francis Walker in 1869. It is found in Mexico and Panama.</td>\n",
       "    </tr>\n",
       "    <tr>\n",
       "      <th>115465</th>\n",
       "      <td>Acosmetia caliginosa</td>\n",
       "      <td>Acosmetia caliginosa, the reddish buff, is a moth of the family Noctuidae. The species was first described by Jacob Hübner in 1813. It is found throughout continental Europe and in southern Scandinavia. then east across the Palearctic to Siberia.</td>\n",
       "    </tr>\n",
       "    <tr>\n",
       "      <th>196931</th>\n",
       "      <td>Mythimna litoralis</td>\n",
       "      <td>A strictly coastal species, it is found in Europe and Morocco in areas close to the shore. The wingspan is 36–42 mm. It is an ochre-colored moth having a distinctive white streak bordered with dark fine lines along the length of the forewing.</td>\n",
       "    </tr>\n",
       "  </tbody>\n",
       "</table>\n",
       "</div>"
      ],
      "text/plain": [
       "                       title                                                                                                                                                                                                                                                    text\n",
       "302709   Traminda aventiaria          Traminda aventiaria, the cross-line wave moth, is a moth of the family Geometridae. The species was first described by Achille Guenée in 1858. It is found in the Indian subregion, Sri Lanka, to Hong Kong, Taiwan, New Guinea and Australia.\n",
       "152       Chrysodeixis acuta                                                                  Chrysodeixis acuta, the tunbridge wells gem, is a moth of the family Noctuidae. It is found in Africa as well as the on Canary Islands eastwards to Australasia Indonesia and Oceania.\n",
       "265266    Turuptiana obliqua                                                                                                                      Turuptiana obliqua is a moth in the family Erebidae. It was described by Francis Walker in 1869. It is found in Mexico and Panama.\n",
       "115465  Acosmetia caliginosa  Acosmetia caliginosa, the reddish buff, is a moth of the family Noctuidae. The species was first described by Jacob Hübner in 1813. It is found throughout continental Europe and in southern Scandinavia. then east across the Palearctic to Siberia.\n",
       "196931    Mythimna litoralis      A strictly coastal species, it is found in Europe and Morocco in areas close to the shore. The wingspan is 36–42 mm. It is an ochre-colored moth having a distinctive white streak bordered with dark fine lines along the length of the forewing."
      ]
     },
     "metadata": {},
     "output_type": "display_data"
    },
    {
     "name": "stdout",
     "output_type": "stream",
     "text": [
      "----------------------------------------------------------------------------------------------------\n",
      "Cluster id : 28\n",
      "Cluster size : 941\n"
     ]
    },
    {
     "data": {
      "text/html": [
       "<div>\n",
       "<style scoped>\n",
       "    .dataframe tbody tr th:only-of-type {\n",
       "        vertical-align: middle;\n",
       "    }\n",
       "\n",
       "    .dataframe tbody tr th {\n",
       "        vertical-align: top;\n",
       "    }\n",
       "\n",
       "    .dataframe thead th {\n",
       "        text-align: right;\n",
       "    }\n",
       "</style>\n",
       "<table border=\"1\" class=\"dataframe\">\n",
       "  <thead>\n",
       "    <tr style=\"text-align: right;\">\n",
       "      <th></th>\n",
       "      <th>title</th>\n",
       "      <th>text</th>\n",
       "    </tr>\n",
       "  </thead>\n",
       "  <tbody>\n",
       "    <tr>\n",
       "      <th>263908</th>\n",
       "      <td>Pilsbryspira garciacubasi</td>\n",
       "      <td>Pilsbryspira garciacubasi is a species of sea snail, a marine gastropod mollusk in the family Pseudomelatomidae, the turrids and allies.</td>\n",
       "    </tr>\n",
       "    <tr>\n",
       "      <th>239790</th>\n",
       "      <td>Conus granulatus</td>\n",
       "      <td>Conus granulatus is a species of sea snail, a marine gastropod mollusk in the family Conidae, the cone snails and their allies.</td>\n",
       "    </tr>\n",
       "    <tr>\n",
       "      <th>353173</th>\n",
       "      <td>Hypselodoris yarae</td>\n",
       "      <td>Hypselodoris yarae is a species of sea slug or dorid nudibranch, a marine gastropod mollusc in the family Chromodorididae.</td>\n",
       "    </tr>\n",
       "    <tr>\n",
       "      <th>133114</th>\n",
       "      <td>Doris tricolor</td>\n",
       "      <td>Doris tricolor is a species of sea slug, a dorid nudibranch, a marine gastropod mollusc in the family Dorididae.</td>\n",
       "    </tr>\n",
       "    <tr>\n",
       "      <th>257440</th>\n",
       "      <td>Alloiodoris lanuginata</td>\n",
       "      <td>Alloiodoris lanuginata is a species of sea slug or dorid nudibranch, a marine gastropod mollusk in the family Discodorididae.</td>\n",
       "    </tr>\n",
       "  </tbody>\n",
       "</table>\n",
       "</div>"
      ],
      "text/plain": [
       "                            title                                                                                                                                      text\n",
       "263908  Pilsbryspira garciacubasi  Pilsbryspira garciacubasi is a species of sea snail, a marine gastropod mollusk in the family Pseudomelatomidae, the turrids and allies.\n",
       "239790           Conus granulatus           Conus granulatus is a species of sea snail, a marine gastropod mollusk in the family Conidae, the cone snails and their allies.\n",
       "353173         Hypselodoris yarae                Hypselodoris yarae is a species of sea slug or dorid nudibranch, a marine gastropod mollusc in the family Chromodorididae.\n",
       "133114             Doris tricolor                          Doris tricolor is a species of sea slug, a dorid nudibranch, a marine gastropod mollusc in the family Dorididae.\n",
       "257440     Alloiodoris lanuginata             Alloiodoris lanuginata is a species of sea slug or dorid nudibranch, a marine gastropod mollusk in the family Discodorididae."
      ]
     },
     "metadata": {},
     "output_type": "display_data"
    },
    {
     "name": "stdout",
     "output_type": "stream",
     "text": [
      "----------------------------------------------------------------------------------------------------\n",
      "Cluster id : 17\n",
      "Cluster size : 837\n"
     ]
    },
    {
     "data": {
      "text/html": [
       "<div>\n",
       "<style scoped>\n",
       "    .dataframe tbody tr th:only-of-type {\n",
       "        vertical-align: middle;\n",
       "    }\n",
       "\n",
       "    .dataframe tbody tr th {\n",
       "        vertical-align: top;\n",
       "    }\n",
       "\n",
       "    .dataframe thead th {\n",
       "        text-align: right;\n",
       "    }\n",
       "</style>\n",
       "<table border=\"1\" class=\"dataframe\">\n",
       "  <thead>\n",
       "    <tr style=\"text-align: right;\">\n",
       "      <th></th>\n",
       "      <th>title</th>\n",
       "      <th>text</th>\n",
       "    </tr>\n",
       "  </thead>\n",
       "  <tbody>\n",
       "    <tr>\n",
       "      <th>76211</th>\n",
       "      <td>WINL</td>\n",
       "      <td>WINL (98.5 FM, \"Dixie Country\") is an American radio station licensed to serve the community of Linden, Alabama. The station's broadcast license is held by Westburg Broadcasting Alabama, LLC.</td>\n",
       "    </tr>\n",
       "    <tr>\n",
       "      <th>453926</th>\n",
       "      <td>KKCT</td>\n",
       "      <td>KKCT (97.5 FM), known as Hot 97.5, is a Top 40 (CHR) radio station licensed to Bismarck, North Dakota.</td>\n",
       "    </tr>\n",
       "    <tr>\n",
       "      <th>304970</th>\n",
       "      <td>WZYZ</td>\n",
       "      <td>WZYZ (90.1 FM) is a radio station licensed to Spencer, Tennessee, United States. The station is currently owned by Church Faith Trinity Assemblies.</td>\n",
       "    </tr>\n",
       "    <tr>\n",
       "      <th>294197</th>\n",
       "      <td>KSKR-FM</td>\n",
       "      <td>KSKR-FM (100.9 FM) is an American radio station licensed to serve Sutherlin, Oregon, United States. The station, which began broadcasting in 1998, is currently owned by Brooke Communications, Inc.</td>\n",
       "    </tr>\n",
       "    <tr>\n",
       "      <th>466610</th>\n",
       "      <td>WFHG-FM</td>\n",
       "      <td>WFHG-FM is a talk formatted broadcast radio station licensed to Bluff City, Tennessee and serving the Tri-Cities region of Tennessee and Virginia. WFHG is owned and operated by Bristol Broadcasting Company, Inc.</td>\n",
       "    </tr>\n",
       "  </tbody>\n",
       "</table>\n",
       "</div>"
      ],
      "text/plain": [
       "          title                                                                                                                                                                                                                 text\n",
       "76211      WINL                      WINL (98.5 FM, \"Dixie Country\") is an American radio station licensed to serve the community of Linden, Alabama. The station's broadcast license is held by Westburg Broadcasting Alabama, LLC.\n",
       "453926     KKCT                                                                                                               KKCT (97.5 FM), known as Hot 97.5, is a Top 40 (CHR) radio station licensed to Bismarck, North Dakota.\n",
       "304970     WZYZ                                                                  WZYZ (90.1 FM) is a radio station licensed to Spencer, Tennessee, United States. The station is currently owned by Church Faith Trinity Assemblies.\n",
       "294197  KSKR-FM                 KSKR-FM (100.9 FM) is an American radio station licensed to serve Sutherlin, Oregon, United States. The station, which began broadcasting in 1998, is currently owned by Brooke Communications, Inc.\n",
       "466610  WFHG-FM  WFHG-FM is a talk formatted broadcast radio station licensed to Bluff City, Tennessee and serving the Tri-Cities region of Tennessee and Virginia. WFHG is owned and operated by Bristol Broadcasting Company, Inc."
      ]
     },
     "metadata": {},
     "output_type": "display_data"
    },
    {
     "name": "stdout",
     "output_type": "stream",
     "text": [
      "----------------------------------------------------------------------------------------------------\n",
      "Cluster id : 18\n",
      "Cluster size : 734\n"
     ]
    },
    {
     "data": {
      "text/html": [
       "<div>\n",
       "<style scoped>\n",
       "    .dataframe tbody tr th:only-of-type {\n",
       "        vertical-align: middle;\n",
       "    }\n",
       "\n",
       "    .dataframe tbody tr th {\n",
       "        vertical-align: top;\n",
       "    }\n",
       "\n",
       "    .dataframe thead th {\n",
       "        text-align: right;\n",
       "    }\n",
       "</style>\n",
       "<table border=\"1\" class=\"dataframe\">\n",
       "  <thead>\n",
       "    <tr style=\"text-align: right;\">\n",
       "      <th></th>\n",
       "      <th>title</th>\n",
       "      <th>text</th>\n",
       "    </tr>\n",
       "  </thead>\n",
       "  <tbody>\n",
       "    <tr>\n",
       "      <th>256679</th>\n",
       "      <td>2015 Huntingdonshire District Council election</td>\n",
       "      <td>The 2015 Huntingdonshire District Council election took place on 7 May 2015 to elect members of Huntingdonshire District Council in England. This was on the same day as other local elections.</td>\n",
       "    </tr>\n",
       "    <tr>\n",
       "      <th>190599</th>\n",
       "      <td>2014 Basingstoke and Deane Borough Council election</td>\n",
       "      <td>The 2014 Basingstoke and Deane Borough Council election took place on 22 May 2014 to elect members of Basingstoke and Deane Borough Council in England. This was on the same day as other local elections. These elections were postponed from the usual first Thursday of May in order to coincide with the 2014 European Parliamentary Elections.</td>\n",
       "    </tr>\n",
       "    <tr>\n",
       "      <th>127854</th>\n",
       "      <td>Kai Hiu (constituency)</td>\n",
       "      <td>The constituency returns one district councillor to the Eastern District Council, with an election every four years.</td>\n",
       "    </tr>\n",
       "    <tr>\n",
       "      <th>166376</th>\n",
       "      <td>2009 Sligo County Council election</td>\n",
       "      <td>An election to Sligo County Council took place on 5 June 2009 as part of that year's Irish local elections. 25 councillors were elected from five electoral divisions by PR-STV voting for a five-year term of office.</td>\n",
       "    </tr>\n",
       "    <tr>\n",
       "      <th>38344</th>\n",
       "      <td>2007 Scarborough Borough Council election</td>\n",
       "      <td>The 2007 Scarborough Borough Council elections to the Scarborough Borough Council were held on 3 May 2007. The whole council was up for election and the Conservative party lost overall control of the council to no overall control. Overall turnout was 36%.</td>\n",
       "    </tr>\n",
       "  </tbody>\n",
       "</table>\n",
       "</div>"
      ],
      "text/plain": [
       "                                                      title                                                                                                                                                                                                                                                                                                                                                 text\n",
       "256679       2015 Huntingdonshire District Council election                                                                                                                                                      The 2015 Huntingdonshire District Council election took place on 7 May 2015 to elect members of Huntingdonshire District Council in England. This was on the same day as other local elections.\n",
       "190599  2014 Basingstoke and Deane Borough Council election  The 2014 Basingstoke and Deane Borough Council election took place on 22 May 2014 to elect members of Basingstoke and Deane Borough Council in England. This was on the same day as other local elections. These elections were postponed from the usual first Thursday of May in order to coincide with the 2014 European Parliamentary Elections.\n",
       "127854                               Kai Hiu (constituency)                                                                                                                                                                                                                                 The constituency returns one district councillor to the Eastern District Council, with an election every four years.\n",
       "166376                   2009 Sligo County Council election                                                                                                                               An election to Sligo County Council took place on 5 June 2009 as part of that year's Irish local elections. 25 councillors were elected from five electoral divisions by PR-STV voting for a five-year term of office.\n",
       "38344             2007 Scarborough Borough Council election                                                                                      The 2007 Scarborough Borough Council elections to the Scarborough Borough Council were held on 3 May 2007. The whole council was up for election and the Conservative party lost overall control of the council to no overall control. Overall turnout was 36%."
      ]
     },
     "metadata": {},
     "output_type": "display_data"
    },
    {
     "name": "stdout",
     "output_type": "stream",
     "text": [
      "----------------------------------------------------------------------------------------------------\n",
      "Cluster id : 5\n",
      "Cluster size : 681\n"
     ]
    },
    {
     "data": {
      "text/html": [
       "<div>\n",
       "<style scoped>\n",
       "    .dataframe tbody tr th:only-of-type {\n",
       "        vertical-align: middle;\n",
       "    }\n",
       "\n",
       "    .dataframe tbody tr th {\n",
       "        vertical-align: top;\n",
       "    }\n",
       "\n",
       "    .dataframe thead th {\n",
       "        text-align: right;\n",
       "    }\n",
       "</style>\n",
       "<table border=\"1\" class=\"dataframe\">\n",
       "  <thead>\n",
       "    <tr style=\"text-align: right;\">\n",
       "      <th></th>\n",
       "      <th>title</th>\n",
       "      <th>text</th>\n",
       "    </tr>\n",
       "  </thead>\n",
       "  <tbody>\n",
       "    <tr>\n",
       "      <th>242680</th>\n",
       "      <td>Sukumo Station</td>\n",
       "      <td>Sukumo Station is a terminus of the Tosa Kuroshio Railway Sukumo Line, and is located 23.6 km from the opposing terminus of the line at</td>\n",
       "    </tr>\n",
       "    <tr>\n",
       "      <th>119034</th>\n",
       "      <td>Fushiki Station</td>\n",
       "      <td>Fushiki Station is served by the Himi Line, and is located 7.3 kilometers from the opposing end of the line at .</td>\n",
       "    </tr>\n",
       "    <tr>\n",
       "      <th>200348</th>\n",
       "      <td>Minami-Arao Station</td>\n",
       "      <td>The station is served by the Kagoshima Main Line and is located 154.8 km from the starting point of the line at . Both local and rapid services on the line stop at the station.</td>\n",
       "    </tr>\n",
       "    <tr>\n",
       "      <th>340008</th>\n",
       "      <td>Kōnodai Station</td>\n",
       "      <td>Kōnodai Station is served by the Keisei Main Line, and is located 16.4 km from the terminus of the line at Keisei-Ueno Station.</td>\n",
       "    </tr>\n",
       "    <tr>\n",
       "      <th>265490</th>\n",
       "      <td>Fudōin-mae Station</td>\n",
       "      <td>Fudōin-mae Station is a HRT station on Astram Line, located in 3–3–12, Ushita-shinmachi, Naka-ku, Hiroshima.</td>\n",
       "    </tr>\n",
       "  </tbody>\n",
       "</table>\n",
       "</div>"
      ],
      "text/plain": [
       "                      title                                                                                                                                                                              text\n",
       "242680       Sukumo Station                                           Sukumo Station is a terminus of the Tosa Kuroshio Railway Sukumo Line, and is located 23.6 km from the opposing terminus of the line at\n",
       "119034      Fushiki Station                                                                  Fushiki Station is served by the Himi Line, and is located 7.3 kilometers from the opposing end of the line at .\n",
       "200348  Minami-Arao Station  The station is served by the Kagoshima Main Line and is located 154.8 km from the starting point of the line at . Both local and rapid services on the line stop at the station.\n",
       "340008      Kōnodai Station                                                   Kōnodai Station is served by the Keisei Main Line, and is located 16.4 km from the terminus of the line at Keisei-Ueno Station.\n",
       "265490   Fudōin-mae Station                                                                      Fudōin-mae Station is a HRT station on Astram Line, located in 3–3–12, Ushita-shinmachi, Naka-ku, Hiroshima."
      ]
     },
     "metadata": {},
     "output_type": "display_data"
    },
    {
     "name": "stdout",
     "output_type": "stream",
     "text": [
      "----------------------------------------------------------------------------------------------------\n",
      "Cluster id : 6\n",
      "Cluster size : 557\n"
     ]
    },
    {
     "data": {
      "text/html": [
       "<div>\n",
       "<style scoped>\n",
       "    .dataframe tbody tr th:only-of-type {\n",
       "        vertical-align: middle;\n",
       "    }\n",
       "\n",
       "    .dataframe tbody tr th {\n",
       "        vertical-align: top;\n",
       "    }\n",
       "\n",
       "    .dataframe thead th {\n",
       "        text-align: right;\n",
       "    }\n",
       "</style>\n",
       "<table border=\"1\" class=\"dataframe\">\n",
       "  <thead>\n",
       "    <tr style=\"text-align: right;\">\n",
       "      <th></th>\n",
       "      <th>title</th>\n",
       "      <th>text</th>\n",
       "    </tr>\n",
       "  </thead>\n",
       "  <tbody>\n",
       "    <tr>\n",
       "      <th>134673</th>\n",
       "      <td>Karuppur, Kumbakonam</td>\n",
       "      <td>As per the 2001 census, Karuppur had a total population of 1468 with 741 males and 727 females. The sex ratio was 981. The literacy rate was 86.4</td>\n",
       "    </tr>\n",
       "    <tr>\n",
       "      <th>460456</th>\n",
       "      <td>Naganuma, Hokkaido</td>\n",
       "      <td>As of September 2016, the town has an estimated population of 11,262, and a density of 67 persons per km. The total area is 168.36 km.</td>\n",
       "    </tr>\n",
       "    <tr>\n",
       "      <th>37032</th>\n",
       "      <td>Subramaniyapuram, Pudukkottai</td>\n",
       "      <td>census, Subramaniyapuram had a total population of 968 with 412 males and 556 females. Out of the total population 710 people were literate.</td>\n",
       "    </tr>\n",
       "    <tr>\n",
       "      <th>331827</th>\n",
       "      <td>Tallapalle</td>\n",
       "      <td>India census, Tallapalle had a population of 10,937. Males constitute 52% of the population and females 48%. Tallapalle has an average literacy rate of 56%, lower than the national average of 59.5%: male literacy is 63%, and female literacy is 47%. In Tallapalle, 11% of the population is under 6 years of age.</td>\n",
       "    </tr>\n",
       "    <tr>\n",
       "      <th>242757</th>\n",
       "      <td>Miyagi, Gunma</td>\n",
       "      <td>As of 2003, the village had an estimated population of 8,468 and a density of 175.87 persons per km². The total area was 48.15 km².</td>\n",
       "    </tr>\n",
       "  </tbody>\n",
       "</table>\n",
       "</div>"
      ],
      "text/plain": [
       "                                title                                                                                                                                                                                                                                                                                                                    text\n",
       "134673           Karuppur, Kumbakonam                                                                                                                                                                       As per the 2001 census, Karuppur had a total population of 1468 with 741 males and 727 females. The sex ratio was 981. The literacy rate was 86.4\n",
       "460456             Naganuma, Hokkaido                                                                                                                                                                                  As of September 2016, the town has an estimated population of 11,262, and a density of 67 persons per km. The total area is 168.36 km.\n",
       "37032   Subramaniyapuram, Pudukkottai                                                                                                                                                                            census, Subramaniyapuram had a total population of 968 with 412 males and 556 females. Out of the total population 710 people were literate.\n",
       "331827                     Tallapalle  India census, Tallapalle had a population of 10,937. Males constitute 52% of the population and females 48%. Tallapalle has an average literacy rate of 56%, lower than the national average of 59.5%: male literacy is 63%, and female literacy is 47%. In Tallapalle, 11% of the population is under 6 years of age.\n",
       "242757                  Miyagi, Gunma                                                                                                                                                                                     As of 2003, the village had an estimated population of 8,468 and a density of 175.87 persons per km². The total area was 48.15 km²."
      ]
     },
     "metadata": {},
     "output_type": "display_data"
    },
    {
     "name": "stdout",
     "output_type": "stream",
     "text": [
      "----------------------------------------------------------------------------------------------------\n",
      "Cluster id : 11\n",
      "Cluster size : 503\n"
     ]
    },
    {
     "data": {
      "text/html": [
       "<div>\n",
       "<style scoped>\n",
       "    .dataframe tbody tr th:only-of-type {\n",
       "        vertical-align: middle;\n",
       "    }\n",
       "\n",
       "    .dataframe tbody tr th {\n",
       "        vertical-align: top;\n",
       "    }\n",
       "\n",
       "    .dataframe thead th {\n",
       "        text-align: right;\n",
       "    }\n",
       "</style>\n",
       "<table border=\"1\" class=\"dataframe\">\n",
       "  <thead>\n",
       "    <tr style=\"text-align: right;\">\n",
       "      <th></th>\n",
       "      <th>title</th>\n",
       "      <th>text</th>\n",
       "    </tr>\n",
       "  </thead>\n",
       "  <tbody>\n",
       "    <tr>\n",
       "      <th>60104</th>\n",
       "      <td>Han Jin-su</td>\n",
       "      <td>Han Jin-su (born 16 December 1965) is a South Korean field hockey player. He competed in the men's tournament at the 1988 Summer Olympics.</td>\n",
       "    </tr>\n",
       "    <tr>\n",
       "      <th>103131</th>\n",
       "      <td>Hongman Choi</td>\n",
       "      <td>Choi Hong-man (Korean: 최홍만, Hanja: 崔洪萬; born October 30, 1980), often anglicised to Hongman Choi, is a South Korean kickboxer, mixed martial artist, and former ssireum wrestler. In Asia, he is called \"Che Man\", \"Techno Goliath\", \"Korean Monster\" and \"Korean Colossus\". He won the 2005 K-1 Seoul Grand Prix beating Kaoklai Kaennorsing in the finals. He stands and weighs .</td>\n",
       "    </tr>\n",
       "    <tr>\n",
       "      <th>376635</th>\n",
       "      <td>Lee Han-sol</td>\n",
       "      <td>Lee Han-sol (; born 23 August 1995) is a South Korean handball player for SK Sugar Gliders and the South Korean national team.</td>\n",
       "    </tr>\n",
       "    <tr>\n",
       "      <th>126295</th>\n",
       "      <td>Han Hyung-bae</td>\n",
       "      <td>Han Hyung-bae (born March 21, 1976) is a field hockey player from South Korea, who was a member of the Men's National Team that won the silver medal at the 2000 Summer Olympics in Sydney. In the final the Asians were beaten by the title holders Netherlands after penalty strokes.</td>\n",
       "    </tr>\n",
       "    <tr>\n",
       "      <th>113209</th>\n",
       "      <td>Kim Ju-sik</td>\n",
       "      <td>Kim Ju Sik (born September 25, 1992) is a North Korean pair skater. With his skating partner, Ryom Tae-ok, he is the 2018 Four Continents bronze medalist, the 2017 Asian Winter Games bronze medalist, 2016 Cup of Tyrol bronze medalist, and 2016 Asian Open Trophy champion.</td>\n",
       "    </tr>\n",
       "  </tbody>\n",
       "</table>\n",
       "</div>"
      ],
      "text/plain": [
       "                title                                                                                                                                                                                                                                                                                                                                                                                 text\n",
       "60104      Han Jin-su                                                                                                                                                                                                                                           Han Jin-su (born 16 December 1965) is a South Korean field hockey player. He competed in the men's tournament at the 1988 Summer Olympics.\n",
       "103131   Hongman Choi  Choi Hong-man (Korean: 최홍만, Hanja: 崔洪萬; born October 30, 1980), often anglicised to Hongman Choi, is a South Korean kickboxer, mixed martial artist, and former ssireum wrestler. In Asia, he is called \"Che Man\", \"Techno Goliath\", \"Korean Monster\" and \"Korean Colossus\". He won the 2005 K-1 Seoul Grand Prix beating Kaoklai Kaennorsing in the finals. He stands and weighs .\n",
       "376635    Lee Han-sol                                                                                                                                                                                                                                                       Lee Han-sol (; born 23 August 1995) is a South Korean handball player for SK Sugar Gliders and the South Korean national team.\n",
       "126295  Han Hyung-bae                                                                                              Han Hyung-bae (born March 21, 1976) is a field hockey player from South Korea, who was a member of the Men's National Team that won the silver medal at the 2000 Summer Olympics in Sydney. In the final the Asians were beaten by the title holders Netherlands after penalty strokes.\n",
       "113209     Kim Ju-sik                                                                                                      Kim Ju Sik (born September 25, 1992) is a North Korean pair skater. With his skating partner, Ryom Tae-ok, he is the 2018 Four Continents bronze medalist, the 2017 Asian Winter Games bronze medalist, 2016 Cup of Tyrol bronze medalist, and 2016 Asian Open Trophy champion."
      ]
     },
     "metadata": {},
     "output_type": "display_data"
    },
    {
     "name": "stdout",
     "output_type": "stream",
     "text": [
      "----------------------------------------------------------------------------------------------------\n"
     ]
    }
   ],
   "source": [
    "for i, l in enumerate(np.argsort(counts)[::-1][:10]):\n",
    "    l -= 1\n",
    "    if l == -1:\n",
    "        continue\n",
    "        \n",
    "    if counts[l + 1] <= MIN_SAMPLES:\n",
    "        continue\n",
    "\n",
    "    ids = np.where(y == l)[0]\n",
    "\n",
    "    print(\"Cluster id :\", l)\n",
    "    print(\"Cluster size :\", len(ids))\n",
    "    display(df[['title', 'text']].iloc[ids].sample(5))  # min(5, len(ids))))\n",
    "\n",
    "    print('-' * 100)\n",
    "\n",
    "    # if i > 1:\n",
    "    #     break"
   ]
  },
  {
   "cell_type": "markdown",
   "id": "a7ac4685",
   "metadata": {},
   "source": [
    "### Sampling"
   ]
  },
  {
   "cell_type": "code",
   "execution_count": 24,
   "id": "b568dd12",
   "metadata": {
    "tags": []
   },
   "outputs": [
    {
     "name": "stdout",
     "output_type": "stream",
     "text": [
      "Use previously computed dbscan_y\n",
      "Initialize with 36 points\n"
     ]
    },
    {
     "name": "stderr",
     "output_type": "stream",
     "text": [
      "100%|██████████| 964/964 [00:04<00:00, 195.02it/s]\n"
     ]
    }
   ],
   "source": [
    "ids = coreset.sample(embeds)"
   ]
  },
  {
   "cell_type": "code",
   "execution_count": null,
   "id": "d130026d",
   "metadata": {},
   "outputs": [
    {
     "name": "stderr",
     "output_type": "stream",
     "text": [
      "/usr/local/lib/python3.10/dist-packages/cuml/internals/api_decorators.py:344: UserWarning: Starting from version 22.04, the default method of TSNE is 'fft'.\n",
      "  return func(**kwargs)\n"
     ]
    },
    {
     "name": "stdout",
     "output_type": "stream",
     "text": [
      "[W] [15:26:36.770767] # of Nearest Neighbors should be at least 3 * perplexity. Your results might be a bit strange...\n"
     ]
    }
   ],
   "source": [
    "plot_coreset_results(embeds, y, counts, ids, min_size=MIN_SAMPLES)"
   ]
  },
  {
   "cell_type": "markdown",
   "id": "cd2eb08d",
   "metadata": {},
   "source": [
    "## Compare with Random Sampling\n",
    "\n"
   ]
  },
  {
   "cell_type": "code",
   "execution_count": 28,
   "id": "ee8f9553",
   "metadata": {},
   "outputs": [],
   "source": [
    "n_texts = [100, 500, 1000, 2000, 3000, 4000, 5000]  # , 10000"
   ]
  },
  {
   "cell_type": "code",
   "execution_count": 29,
   "id": "c8d35598",
   "metadata": {},
   "outputs": [],
   "source": [
    "coreset = CoresetSampler(\n",
    "    initialization=\"\",\n",
    "    dbscan_params={\"eps\": EPS, \"min_samples\": MIN_SAMPLES},\n",
    "    tqdm_disable=True,\n",
    "    verbose=0,\n",
    ")"
   ]
  },
  {
   "cell_type": "code",
   "execution_count": 30,
   "id": "d3d93866",
   "metadata": {},
   "outputs": [
    {
     "name": "stdout",
     "output_type": "stream",
     "text": [
      "- n=100 \t-  Diversity: 0.983  -  KL Divergence 0.332\n",
      "- n=500 \t-  Diversity: 0.861  -  KL Divergence 0.434\n",
      "- n=1000 \t-  Diversity: 0.741  -  KL Divergence 0.451\n",
      "- n=2000 \t-  Diversity: 0.596  -  KL Divergence 0.489\n",
      "- n=3000 \t-  Diversity: 0.483  -  KL Divergence 0.508\n",
      "- n=4000 \t-  Diversity: 0.414  -  KL Divergence 0.515\n",
      "- n=5000 \t-  Diversity: 0.361  -  KL Divergence 0.520\n"
     ]
    }
   ],
   "source": [
    "diversities_coreset = []\n",
    "kl_divs_coreset = []\n",
    "for n in n_texts:\n",
    "    diversities, kl_divs = [], []\n",
    "    for _ in range(3):\n",
    "        sampled_ids = coreset.sample(embeds, n_samples=n)\n",
    "        df_s = df.iloc[sampled_ids].reset_index(drop=True)\n",
    "        n_topics = len(df_s[\"bertopic_class\"].unique())\n",
    "        diversities.append(n_topics / n)\n",
    "\n",
    "        dist = df_s[\"domain\"].value_counts().values / n\n",
    "        unif = np.ones(len(dist)) / len(dist)\n",
    "        kl_div = np.sum(dist * np.log(dist / unif))\n",
    "        kl_divs.append(kl_div)\n",
    "\n",
    "    div = np.mean(diversities)\n",
    "    kl_div = np.mean(kl_divs)\n",
    "    diversities_coreset.append(div)\n",
    "    kl_divs_coreset.append(kl_div)\n",
    "    print(f'- n={n} \\t-  Diversity: {div:.3f}  -  KL Divergence {kl_div :.3f}')"
   ]
  },
  {
   "cell_type": "code",
   "execution_count": 31,
   "id": "83f796d6",
   "metadata": {},
   "outputs": [
    {
     "name": "stdout",
     "output_type": "stream",
     "text": [
      "- n=100 \t-  Diversity: 0.890  - KL Divergence 0.469\n",
      "- n=500 \t-  Diversity: 0.672  - KL Divergence 0.677\n",
      "- n=1000 \t-  Diversity: 0.542  - KL Divergence 0.690\n",
      "- n=2000 \t-  Diversity: 0.409  - KL Divergence 0.720\n",
      "- n=3000 \t-  Diversity: 0.338  - KL Divergence 0.726\n",
      "- n=4000 \t-  Diversity: 0.292  - KL Divergence 0.734\n",
      "- n=5000 \t-  Diversity: 0.259  - KL Divergence 0.747\n"
     ]
    }
   ],
   "source": [
    "diversities_random = []\n",
    "kl_divs_random = []\n",
    "for n in n_texts:\n",
    "    diversities = []\n",
    "    kl_divs = []\n",
    "    for _ in range(10):\n",
    "        df_s = df.sample(n).reset_index(drop=True)\n",
    "        n_topics = len(df_s[\"bertopic_class\"].unique())\n",
    "        diversities.append(n_topics / n)\n",
    "                \n",
    "        dist = df_s[\"domain\"].value_counts().values / n\n",
    "        unif = np.ones(len(dist)) / len(dist)\n",
    "        kl_div = np.sum(dist * np.log(dist / unif))\n",
    "        kl_divs.append(kl_div)\n",
    "\n",
    "    div = np.mean(diversities)\n",
    "    kl_div = np.mean(kl_divs)\n",
    "    diversities_random.append(div)\n",
    "    kl_divs_random.append(kl_div)\n",
    "    print(f'- n={n} \\t-  Diversity: {div:.3f}  - KL Divergence {kl_div :.3f}')"
   ]
  },
  {
   "cell_type": "code",
   "execution_count": 32,
   "id": "683547ca",
   "metadata": {},
   "outputs": [
    {
     "data": {
      "image/png": "[encoded data removed]",
      "text/plain": [
       "<Figure size 640x480 with 1 Axes>"
      ]
     },
     "metadata": {},
     "output_type": "display_data"
    }
   ],
   "source": [
    "plt.plot(n_texts, kl_divs_coreset, label=\"KL Div Coreset\")\n",
    "plt.plot(n_texts, kl_divs_random, label=\"KL Div Random\")\n",
    "plt.xlabel('n_texts')\n",
    "plt.legend()\n",
    "plt.ylim(0, 1)\n",
    "plt.grid()\n",
    "plt.title('KL Div with uniform distribution of the two sampling techniques.')\n",
    "plt.show()"
   ]
  },
  {
   "cell_type": "code",
   "execution_count": 33,
   "id": "7e1c1773",
   "metadata": {},
   "outputs": [
    {
     "data": {
      "image/png": "[encoded data removed]",
      "text/plain": [
       "<Figure size 640x480 with 1 Axes>"
      ]
     },
     "metadata": {},
     "output_type": "display_data"
    }
   ],
   "source": [
    "plt.plot(n_texts, diversities_coreset, label=\"Diversities Coreset\")\n",
    "plt.plot(n_texts, diversities_random, label=\"Diversities Random\")\n",
    "plt.xlabel('n_texts')\n",
    "plt.legend()\n",
    "plt.ylim(0, 1)\n",
    "plt.grid()\n",
    "plt.title('Diversity of the two sampling techniques.')\n",
    "plt.show()"
   ]
  },
  {
   "cell_type": "markdown",
   "id": "6168bf3a",
   "metadata": {},
   "source": [
    "Done ! "
   ]
  }
 ],
 "metadata": {
  "kernelspec": {
   "display_name": "Python 3 (ipykernel)",
   "language": "python",
   "name": "python3"
  },
  "language_info": {
   "codemirror_mode": {
    "name": "ipython",
    "version": 3
   },
   "file_extension": ".py",
   "mimetype": "text/x-python",
   "name": "python",
   "nbconvert_exporter": "python",
   "pygments_lexer": "ipython3",
   "version": "3.10.12"
  }
 },
 "nbformat": 4,
 "nbformat_minor": 5
}
